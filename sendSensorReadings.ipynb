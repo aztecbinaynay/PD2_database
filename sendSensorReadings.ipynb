{
 "cells": [
  {
   "cell_type": "code",
   "execution_count": 2,
   "metadata": {},
   "outputs": [],
   "source": [
    "import sqlite3\n",
    "import requests"
   ]
  },
  {
   "cell_type": "markdown",
   "metadata": {},
   "source": [
    "### Create the database"
   ]
  },
  {
   "cell_type": "code",
   "execution_count": null,
   "metadata": {},
   "outputs": [],
   "source": [
    "import sqlite3\n",
    "\n",
    "conn = sqlite3.connect(\n",
    "    r\"C:\\Users\\Toshiba\\Documents\\PD2_john\\databases\\SensorReadings.db\"\n",
    ")\n",
    "cursor = conn.cursor()\n",
    "\n",
    "# Create the SensorReadings table\n",
    "cursor.execute(\n",
    "    \"\"\"\n",
    "    CREATE TABLE IF NOT EXISTS SensorReadings (\n",
    "        ID INTEGER PRIMARY KEY,\n",
    "        UserID INTEGER NOT NULL,\n",
    "        Therm TEXT,\n",
    "        ECG TEXT,\n",
    "        Airflow TEXT,\n",
    "        Snore TEXT,\n",
    "        SpO2 TEXT,\n",
    "        HR TEXT,\n",
    "        TimeIn DATETIME,\n",
    "        TimeOut DATETIME\n",
    "    )\n",
    "\"\"\"\n",
    ")\n",
    "\n",
    "# Commit the changes and close the connection\n",
    "conn.commit()\n",
    "conn.close()"
   ]
  },
  {
   "cell_type": "markdown",
   "metadata": {},
   "source": [
    "### Create artificial data"
   ]
  },
  {
   "cell_type": "code",
   "execution_count": 1,
   "metadata": {},
   "outputs": [],
   "source": [
    "import random\n",
    "import string\n",
    "from datetime import datetime, timedelta\n",
    "\n",
    "start_time = datetime(2023, 6, 12, 8, 0, 0)"
   ]
  },
  {
   "cell_type": "code",
   "execution_count": 16,
   "metadata": {},
   "outputs": [],
   "source": [
    "import random\n",
    "import string\n",
    "from datetime import datetime, timedelta\n",
    "\n",
    "# Generate a random 6-digit userID using letters and digits\n",
    "userID = \"\".join(random.choices(string.ascii_letters + string.digits, k=6))\n",
    "\n",
    "# Define the start time and end time for TimeIn and TimeOut\n",
    "start_time = datetime(2023, 6, 12, 8, 0, 0)\n",
    "end_time = start_time + timedelta(hours=8)\n",
    "\n",
    "# Define the number of data points\n",
    "num_data_points = 691200\n",
    "\n",
    "# Convert lists to strings\n",
    "therm_data = str([random.randint(0, 500) for _ in range(num_data_points)])\n",
    "ecg_data = str([random.randint(0, 500) for _ in range(num_data_points)])\n",
    "airflow_data = str([random.randint(0, 500) for _ in range(num_data_points)])\n",
    "snore_data = str([random.randint(0, 500) for _ in range(num_data_points)])\n",
    "spo2_data = str([random.randint(0, 500) for _ in range(num_data_points)])\n",
    "hr_data = str([random.randint(0, 500) for _ in range(num_data_points)])\n",
    "\n",
    "# Create the dictionary with keys and values\n",
    "data_dict = {\n",
    "    \"UserID\": userID,\n",
    "    \"Therm\": therm_data,\n",
    "    \"ECG\": ecg_data,\n",
    "    \"Airflow\": airflow_data,\n",
    "    \"Snore\": snore_data,\n",
    "    \"SpO2\": spo2_data,\n",
    "    \"HR\": hr_data,\n",
    "    \"TimeIn\": start_time.strftime(\"%Y-%m-%d %H:%M:%S\"),\n",
    "    \"TimeOut\": end_time.strftime(\"%Y-%m-%d %H:%M:%S\"),\n",
    "}"
   ]
  },
  {
   "cell_type": "code",
   "execution_count": 17,
   "metadata": {},
   "outputs": [
    {
     "data": {
      "text/plain": [
       "'2023-06-12 08:00:00'"
      ]
     },
     "execution_count": 17,
     "metadata": {},
     "output_type": "execute_result"
    }
   ],
   "source": [
    "data_dict[\"TimeIn\"]"
   ]
  },
  {
   "cell_type": "markdown",
   "metadata": {},
   "source": [
    "### Insert values into the database"
   ]
  },
  {
   "cell_type": "code",
   "execution_count": 19,
   "metadata": {},
   "outputs": [],
   "source": [
    "import sqlite3\n",
    "\n",
    "# Connect to the SQLite database\n",
    "conn = sqlite3.connect(\n",
    "    r\"C:\\Users\\Toshiba\\Documents\\PD2_john\\databases\\SensorReadings.db\"\n",
    ")\n",
    "cursor = conn.cursor()\n",
    "\n",
    "# Insert the data into the table\n",
    "cursor.execute(\n",
    "    \"\"\"\n",
    "    INSERT INTO SensorReadings (UserID, Therm, ECG, Airflow, Snore, SpO2, HR, TimeIn, TimeOut)\n",
    "    VALUES (:UserID, :Therm, :ECG, :Airflow, :Snore, :SpO2, :HR, :TimeIn, :TimeOut)\n",
    "\"\"\",\n",
    "    data_dict,\n",
    ")\n",
    "\n",
    "# Commit the transaction\n",
    "conn.commit()\n",
    "\n",
    "# Close the connection\n",
    "conn.close()"
   ]
  },
  {
   "cell_type": "markdown",
   "metadata": {},
   "source": [
    "### Retrieving Data"
   ]
  },
  {
   "cell_type": "code",
   "execution_count": 21,
   "metadata": {},
   "outputs": [
    {
     "name": "stdout",
     "output_type": "stream",
     "text": [
      "Retrieved Data Successfully\n"
     ]
    }
   ],
   "source": [
    "conn = sqlite3.connect(\n",
    "    r\"C:\\Users\\Toshiba\\Documents\\PD2_john\\databases\\SensorReadings.db\"\n",
    ")\n",
    "cursor = conn.cursor()\n",
    "\n",
    "\n",
    "# Function to retrieve a specific row based on UserID\n",
    "def retrieve_row_by_userID(userID):\n",
    "    # Execute the SELECT statement with a WHERE clause\n",
    "    cursor.execute(\"SELECT * FROM SensorReadings WHERE UserID=?\", (userID,))\n",
    "\n",
    "    # Fetch the row from the result\n",
    "    row = cursor.fetchone()\n",
    "\n",
    "    if row is not None:\n",
    "        # Extract the values from the row\n",
    "        id_, userID, Therm, ECG, Airflow, Snore, SpO2, HR, TimeIn, TimeOut = row\n",
    "\n",
    "        # Create a dictionary to store the retrieved data\n",
    "        data_dict2 = {\n",
    "            \"UserID\": userID,\n",
    "            \"Therm\": Therm,\n",
    "            \"ECG\": ECG,\n",
    "            \"Airflow\": Airflow,\n",
    "            \"Snore\": Snore,\n",
    "            \"SpO2\": SpO2,\n",
    "            \"HR\": HR,\n",
    "            \"TimeIn\": TimeIn,\n",
    "            \"TimeOut\": TimeOut,\n",
    "        }\n",
    "\n",
    "        return data_dict2\n",
    "\n",
    "    else:\n",
    "        return \"row data does not exist\"\n",
    "\n",
    "\n",
    "# Retrieve a specific row based on the provided UserID\n",
    "input_userID = \"OYKKRb\"\n",
    "retrieved_data = retrieve_row_by_userID(input_userID)\n",
    "\n",
    "# Process the retrieved data\n",
    "if retrieved_data is not None:\n",
    "    print(\"Retrieved Data Successfully\")\n",
    "else:\n",
    "    print(\"No data found for the provided UserID.\")\n",
    "\n",
    "# Close the connection\n",
    "conn.close()"
   ]
  },
  {
   "cell_type": "markdown",
   "metadata": {},
   "source": [
    "### Turn Sensor Data from Str to Lists"
   ]
  },
  {
   "cell_type": "code",
   "execution_count": 40,
   "metadata": {},
   "outputs": [],
   "source": [
    "import ast"
   ]
  },
  {
   "cell_type": "code",
   "execution_count": 37,
   "metadata": {},
   "outputs": [],
   "source": [
    "therm_data = ast.literal_eval(retrieved_data[\"Therm\"])"
   ]
  },
  {
   "cell_type": "code",
   "execution_count": 39,
   "metadata": {},
   "outputs": [
    {
     "data": {
      "text/plain": [
       "(list, 691200)"
      ]
     },
     "execution_count": 39,
     "metadata": {},
     "output_type": "execute_result"
    }
   ],
   "source": [
    "type(therm_data), len(therm_data)"
   ]
  },
  {
   "cell_type": "markdown",
   "metadata": {},
   "source": [
    "### Sending to the Backend to save something in the database"
   ]
  },
  {
   "cell_type": "markdown",
   "metadata": {},
   "source": [
    "Do a post request and see if it will go through"
   ]
  },
  {
   "cell_type": "code",
   "execution_count": 41,
   "metadata": {},
   "outputs": [],
   "source": [
    "import requests"
   ]
  },
  {
   "cell_type": "code",
   "execution_count": 46,
   "metadata": {},
   "outputs": [
    {
     "name": "stdout",
     "output_type": "stream",
     "text": [
      "200 OK Data received and processed\n"
     ]
    }
   ],
   "source": [
    "url = \"http://127.0.0.1:5000/data\"  # Replace with your backend URL\n",
    "\n",
    "data = {\"color\": \"red\"}  # Replace with your data\n",
    "\n",
    "response = requests.post(url, json=data)\n",
    "print(response.status_code, response.reason, response.text)"
   ]
  },
  {
   "cell_type": "markdown",
   "metadata": {},
   "source": [
    "Send Data to the database using expected sensor readings"
   ]
  },
  {
   "cell_type": "code",
   "execution_count": 49,
   "metadata": {},
   "outputs": [],
   "source": [
    "data_dict_2 = data_dict.copy()"
   ]
  },
  {
   "cell_type": "code",
   "execution_count": 50,
   "metadata": {},
   "outputs": [
    {
     "data": {
      "text/plain": [
       "'ACC123'"
      ]
     },
     "execution_count": 50,
     "metadata": {},
     "output_type": "execute_result"
    }
   ],
   "source": [
    "data_dict_2[\"UserID\"] = \"ACC123\"\n",
    "data_dict_2[\"UserID\"]"
   ]
  },
  {
   "cell_type": "code",
   "execution_count": 8,
   "metadata": {},
   "outputs": [
    {
     "name": "stdout",
     "output_type": "stream",
     "text": [
      "200 OK\n"
     ]
    }
   ],
   "source": [
    "url = \"http://127.0.0.1:5000/insert\"  # Replace with your backend URL\n",
    "\n",
    "data = data_dict_2  # Replace with your data\n",
    "\n",
    "response = requests.post(url, json=data)\n",
    "print(response.status_code, response.reason, response.text)"
   ]
  },
  {
   "cell_type": "markdown",
   "metadata": {},
   "source": [
    "### Retrieve data from using backend"
   ]
  },
  {
   "cell_type": "code",
   "execution_count": 30,
   "metadata": {},
   "outputs": [
    {
     "name": "stdout",
     "output_type": "stream",
     "text": [
      "Error: 404 NOT FOUND row does not exist\n"
     ]
    }
   ],
   "source": [
    "url = \"http://localhost:5000/retrieve\"  # Replace with your backend URL\n",
    "\n",
    "data = {\"UserID\": \"ACC123\"}  # Replace with your data\n",
    "\n",
    "response = requests.post(url, json=data)\n",
    "\n",
    "if response.status_code == 200:\n",
    "    data_dict2 = response.json()\n",
    "    print(response.status_code, response.reason)\n",
    "else:\n",
    "    print(\"Error:\", response.status_code, response.reason, response.text)"
   ]
  },
  {
   "cell_type": "code",
   "execution_count": 28,
   "metadata": {},
   "outputs": [
    {
     "data": {
      "text/plain": [
       "'[224, 127, 426, 166, 456, 488, 432, 420, 415, 231, 290, 202, 28, 171, 490, 287, 411, 246, 87, 134, 7'"
      ]
     },
     "execution_count": 28,
     "metadata": {},
     "output_type": "execute_result"
    }
   ],
   "source": [
    "data_dict2[\"Therm\"][0:100]"
   ]
  }
 ],
 "metadata": {
  "kernelspec": {
   "display_name": "Python 3",
   "language": "python",
   "name": "python3"
  },
  "language_info": {
   "codemirror_mode": {
    "name": "ipython",
    "version": 3
   },
   "file_extension": ".py",
   "mimetype": "text/x-python",
   "name": "python",
   "nbconvert_exporter": "python",
   "pygments_lexer": "ipython3",
   "version": "3.11.4"
  },
  "orig_nbformat": 4
 },
 "nbformat": 4,
 "nbformat_minor": 2
}
